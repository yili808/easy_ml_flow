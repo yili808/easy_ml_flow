{
 "cells": [
  {
   "cell_type": "markdown",
   "metadata": {},
   "source": [
    "# SUMMARY\n",
    "\n",
    "__Yi Li__\n",
    "\n",
    "### Methods\n",
    "-------\n",
    "Applied two tree-based algorithms a) sklearn random forest classifier and b) light\n",
    "-gbm classifier on the training dataset. Used mean cross-validation accuracy score \n",
    "to evaluate models. The higher the mean cross-validation accuracy score, the better \n",
    "the model.\n",
    "    \n",
    "For each model:\n",
    "    1. create a model and set its hyper-parameters search space\n",
    "    2. tune hyper-paramters based on mean cross-validation accuracy score\n",
    "    3. apply the best hyper-parameters to the model\n",
    "    4. fit the model with all training data\n",
    "    5. if out-of-bag is provided, check the out-of-bag accuracy score (it should \n",
    "        be close to best mean cross-validation accuracy socre from tuning results)\n",
    "   \n",
    "### Results\n",
    "-------\n",
    "    Model1: Random Forest Classifier\n",
    "        - best mean cross-validation accuary score = 0.8364\n",
    "        - out-of-bag accuracy score = 0.8429\n",
    "        - elapsed time: ~30 sec\n",
    "        \n",
    "    Model2: LightGBM Classifier\n",
    "        - best mean cross-validation accuary score = 0.8941\n",
    "        - elapsed time: ~300 sec\n",
    "        \n",
    "    Since model2's best mean cross-validation accuracy is higher than the one of \n",
    "    model1's, apply model2 on the test features to obtain test predictions. \n"
   ]
  },
  {
   "cell_type": "code",
   "execution_count": 2,
   "metadata": {},
   "outputs": [],
   "source": [
    "import os\n",
    "import time\n",
    "import warnings\n",
    "import numpy as np\n",
    "import pandas as pd\n",
    "from sklearn.model_selection import cross_val_score\n",
    "from sklearn.ensemble import RandomForestClassifier\n",
    "from lightgbm import LGBMClassifier\n",
    "from skopt.utils import use_named_args\n",
    "from skopt.space import Real, Integer, Categorical\n",
    "from skopt import forest_minimize\n",
    "from skopt.plots import plot_convergence\n",
    "%matplotlib inline\n",
    "warnings.filterwarnings('ignore')\n",
    "\n",
    "# MacOS: solve OMP libiomp5.dylib initialization problem\n",
    "os.environ['KMP_DUPLICATE_LIB_OK']='True' \n",
    "\n",
    "RANDOM_STATE = 20200216\n",
    "\n",
    "def load_csv_data(file):\n",
    "    \"\"\"Load data from a csv file, data has no header.\n",
    "    \n",
    "    Parameters\n",
    "    ----------\n",
    "    file : str\n",
    "        file path\n",
    "        \n",
    "    Returns\n",
    "    -------\n",
    "    pandas dataframe\n",
    "        data\n",
    "    \"\"\"\n",
    "    return pd.read_csv(file, header=None)\n",
    "\n",
    "def process_features(X):\n",
    "    \"\"\"Create dummy features for the first three categorical features, \n",
    "    and concatenate the remaining numerical features.\n",
    "    \n",
    "    Parameters\n",
    "    ----------\n",
    "    X : pandas dataframe\n",
    "        features\n",
    "        \n",
    "    Returns\n",
    "    -------\n",
    "    X_prcoessed : pandas dataframe\n",
    "        processed features\n",
    "    \"\"\"\n",
    "    X_processed = pd.concat([\n",
    "        pd.get_dummies(X.iloc[:, :3]), \n",
    "        X.iloc[:, 3:]\n",
    "    ], axis=1)\n",
    "    return X_processed\n",
    "\n",
    "def hyperparams_tuning(model, space):\n",
    "    \"\"\"Tune hyper-parameters of a given model.\n",
    "    \n",
    "    Use mean cross-validation accuracy score to evaluate model.\n",
    "    \n",
    "    Parameters\n",
    "    ----------\n",
    "    model : instance\n",
    "        a sklearn classifer\n",
    "        \n",
    "    space : list of skopt space\n",
    "        a search space of model hyper-parameters\n",
    "    \n",
    "    Returns\n",
    "    -------\n",
    "    best_params : dict\n",
    "        a dictionary containing best parameters\n",
    "        \n",
    "    best_mean_cross_val_acc_score : float\n",
    "        best mean cross validation accuracy score \n",
    "    \"\"\"\n",
    "    @use_named_args(space)\n",
    "    def objective(**params):\n",
    "        model.set_params(**params)\n",
    "        return -np.mean(cross_val_score(model, X_train_processed, y_train, scoring='accuracy', cv=5))\n",
    "\n",
    "    results = forest_minimize(objective, space, n_calls=20, random_state=RANDOM_STATE)\n",
    "    \n",
    "    best_params = dict()\n",
    "    for i in range(len(space)):\n",
    "        best_params[space[i].name] = results.x[i]\n",
    "    \n",
    "    best_mean_cross_val_acc_score = -results.fun    \n",
    "    plot_convergence(results)\n",
    "    return best_params, best_mean_cross_val_acc_score"
   ]
  },
  {
   "cell_type": "markdown",
   "metadata": {},
   "source": [
    "### Load and Process Data"
   ]
  },
  {
   "cell_type": "code",
   "execution_count": 3,
   "metadata": {},
   "outputs": [],
   "source": [
    "X_train = load_csv_data('data/train_features.csv')\n",
    "y_train = load_csv_data('data/train_labels.csv')\n",
    "\n",
    "X_train_processed = process_features(X_train)\n",
    "y_train = y_train[0].values"
   ]
  },
  {
   "cell_type": "markdown",
   "metadata": {},
   "source": [
    "### Model1: Random Forest Classifier"
   ]
  },
  {
   "cell_type": "code",
   "execution_count": 4,
   "metadata": {},
   "outputs": [
    {
     "name": "stdout",
     "output_type": "stream",
     "text": [
      "Model1: Random Forest Classifier\n",
      "Best mean cross-validation accuary score = 0.8364\n",
      "Best hyper-parameters:\n",
      "{'n_estimators': 84, 'criterion': 'gini', 'max_depth': 8, 'min_samples_split': 29, 'min_samples_leaf': 1, 'max_features': 181, 'max_leaf_nodes': 6}\n",
      "out-of-bag accuracy score = 0.8429\n",
      "Elapsed time: 34 sec\n"
     ]
    },
    {
     "data": {
      "image/png": "[encoded data removed]",
      "text/plain": [
       "<Figure size 432x288 with 1 Axes>"
      ]
     },
     "metadata": {},
     "output_type": "display_data"
    }
   ],
   "source": [
    "print(\"Model1: Random Forest Classifier\")\n",
    "rf_model = RandomForestClassifier(random_state=RANDOM_STATE)\n",
    "\n",
    "rf_space = [\n",
    "    Integer(30, 100, name='n_estimators'),\n",
    "    Categorical(['gini', 'entropy'], name='criterion'),\n",
    "    Integer(2, 20, name='max_depth'),\n",
    "    Integer(2, 50, name='min_samples_split'),\n",
    "    Integer(1, 10, name='min_samples_leaf'),\n",
    "    Integer(100, 200, name='max_features'),\n",
    "    Integer(2, 50, name='max_leaf_nodes')\n",
    "]\n",
    "\n",
    "t0 = time.time()\n",
    "rf_best_params, rf_best_mean_cross_val_acc_score = hyperparams_tuning(rf_model, rf_space)\n",
    "print(\"Best mean cross-validation accuary score = {:.4f}\".format(rf_best_mean_cross_val_acc_score))\n",
    "print(\"Best hyper-parameters:\\n{}\".format(rf_best_params))\n",
    "\n",
    "rf_model = RandomForestClassifier(random_state=RANDOM_STATE, oob_score=True, **rf_best_params)\n",
    "rf_model.fit(X_train_processed, y_train)\n",
    "t1 = time.time()\n",
    "print(\"out-of-bag accuracy score = {:.4f}\".format(rf_model.oob_score_))\n",
    "print(\"Elapsed time: {:.0f} sec\".format(t1 - t0))"
   ]
  },
  {
   "cell_type": "markdown",
   "metadata": {},
   "source": [
    "### Model2: LightGBM Classifier"
   ]
  },
  {
   "cell_type": "code",
   "execution_count": 5,
   "metadata": {},
   "outputs": [
    {
     "name": "stdout",
     "output_type": "stream",
     "text": [
      "Model2: LightGBM Classifier\n",
      "Best mean cross-validation accuary score = 0.8941\n",
      "Best hyper-parameters:\n",
      "{'boosting_type': 'dart', 'num_leaves': 46, 'learning_rate': 0.03054682264552107, 'n_estimators': 2392, 'min_split_gain': 0.6542996987224825, 'min_child_weight': 0.008697760032313158, 'min_child_samples': 22, 'reg_alpha': 0.9689513214613142, 'reg_lambda': 0.9707763321177981}\n",
      "Elapsed time: 311 sec\n"
     ]
    },
    {
     "data": {
      "image/png": "[encoded data removed]",
      "text/plain": [
       "<Figure size 432x288 with 1 Axes>"
      ]
     },
     "metadata": {},
     "output_type": "display_data"
    }
   ],
   "source": [
    "print(\"Model2: LightGBM Classifier\")\n",
    "lgb_model = LGBMClassifier(random_state=RANDOM_STATE)\n",
    "\n",
    "lgb_space = [\n",
    "    Categorical(['gbdt', 'goss', 'dart'], name='boosting_type'),\n",
    "    Integer(10, 100, name='num_leaves'),\n",
    "    Real(0.01, 0.1, name='learning_rate'),\n",
    "    Integer(100, 3000, name='n_estimators'),\n",
    "    Real(0, 1, name='min_split_gain'),\n",
    "    Real(0.001, 0.01, name='min_child_weight'),\n",
    "    Integer(2, 50, name='min_child_samples'),\n",
    "    Real(0, 1, name='reg_alpha'),\n",
    "    Real(0, 1, name='reg_lambda')\n",
    "]\n",
    "\n",
    "t0 = time.time()\n",
    "lgb_best_params, lgb_best_mean_cross_val_acc_score = hyperparams_tuning(lgb_model, lgb_space)\n",
    "print(\"Best mean cross-validation accuary score = {:.4f}\".format(lgb_best_mean_cross_val_acc_score))\n",
    "print(\"Best hyper-parameters:\\n{}\".format(lgb_best_params))\n",
    "\n",
    "lgb_model = LGBMClassifier(random_state=RANDOM_STATE, **lgb_best_params)\n",
    "lgb_model.fit(X_train_processed, y_train)\n",
    "t1 = time.time()\n",
    "print(\"Elapsed time: {:.0f} sec\".format(t1 - t0))"
   ]
  },
  {
   "cell_type": "markdown",
   "metadata": {},
   "source": [
    "### Apply the best trained model and get prediction results"
   ]
  },
  {
   "cell_type": "code",
   "execution_count": 6,
   "metadata": {},
   "outputs": [
    {
     "name": "stdout",
     "output_type": "stream",
     "text": [
      "Applying the LightGBM Classifier on test features...\n"
     ]
    }
   ],
   "source": [
    "print(\"Applying the LightGBM Classifier on test features...\")\n",
    "X_test = load_csv_data('data/test_features.csv')\n",
    "assert X_test.shape == (560, 903)\n",
    "\n",
    "X_test_processed = process_features(X_test)\n",
    "assert X_test_processed.shape[1] == X_train_processed.shape[1]\n",
    "\n",
    "y_test_pred = lgb_model.predict(X_test_processed)\n",
    "test_predictions = pd.DataFrame(y_test_pred)\n",
    "test_predictions.to_csv(\"pred_results/test_predictions.csv\", index=None, header=None)"
   ]
  }
 ],
 "metadata": {
  "kernelspec": {
   "display_name": "Python 3",
   "language": "python",
   "name": "python3"
  },
  "language_info": {
   "codemirror_mode": {
    "name": "ipython",
    "version": 3
   },
   "file_extension": ".py",
   "mimetype": "text/x-python",
   "name": "python",
   "nbconvert_exporter": "python",
   "pygments_lexer": "ipython3",
   "version": "3.6.8"
  }
 },
 "nbformat": 4,
 "nbformat_minor": 2
}
